{
  "nbformat": 4,
  "nbformat_minor": 0,
  "metadata": {
    "colab": {
      "provenance": [],
      "authorship_tag": "ABX9TyNA7xiRhfTp4EnMs0jA4KI8",
      "include_colab_link": true
    },
    "kernelspec": {
      "name": "python3",
      "display_name": "Python 3"
    },
    "language_info": {
      "name": "python"
    }
  },
  "cells": [
    {
      "cell_type": "markdown",
      "metadata": {
        "id": "view-in-github",
        "colab_type": "text"
      },
      "source": [
        "<a href=\"https://colab.research.google.com/github/arthurabelo/Algebra-Linear-Python/blob/main/Base%20do%20nucleo%20e%20da%20imagem.ipynb\" target=\"_parent\"><img src=\"https://colab.research.google.com/assets/colab-badge.svg\" alt=\"Open In Colab\"/></a>"
      ]
    },
    {
      "cell_type": "markdown",
      "source": [
        "EXEMPLO: T(x,y,z)=(x-z,y+x,x)"
      ],
      "metadata": {
        "id": "lclB_SxwMz_7"
      }
    },
    {
      "cell_type": "code",
      "source": [
        "transformacao = input(\"Digite a Transformação Linear (ex: T(x,y,z)=(x-z,y+x,x)):\\n\")\n",
        "match_vars = re.search(r'\\((\\w+(?:,\\w+)*)\\)', transformacao)\n",
        "if match_vars:\n",
        "    vars_entrada_str = match_vars.group(1)\n",
        "    vars_entrada = vars_entrada_str.split(',')\n",
        "    dim_entrada = len(vars_entrada)\n",
        "    print(f\"Variáveis de entrada: {vars_entrada}\")\n",
        "    print(f\"Dimensão de entrada: {dim_entrada}\")\n",
        "else:\n",
        "    print(\"Não foi possível encontrar as variáveis de entrada.\")\n",
        "    dim_entrada = 0\n",
        "\n",
        "match_exprs = re.search(r'=\\((.*?)\\)', transformacao)\n",
        "if match_exprs:\n",
        "    exprs_saida_str = match_exprs.group(1)\n",
        "    exprs_saida = re.split(r', *', exprs_saida_str)\n",
        "    dim_saida = len(exprs_saida)\n",
        "    print(f\"Expressões de saída: {exprs_saida}\")\n",
        "    print(f\"Dimensão de saída: {dim_saida}\")\n",
        "else:\n",
        "    print(\"Não foi possível encontrar as expressões de saída.\")\n",
        "    dim_saida = 0\n",
        "\n",
        "coeficientes = []\n",
        "for expr in exprs_saida:\n",
        "    coefs_expr = {}\n",
        "    # Encontra termos como '2*x', '-y', '5'\n",
        "    termos = re.findall(r'([+-]?\\s*\\d*\\.?\\d*\\*?\\s*\\w*)', expr)\n",
        "    for termo in termos:\n",
        "        termo = termo.strip()\n",
        "        if not termo:\n",
        "            continue\n",
        "\n",
        "        match_termo = re.match(r'([+-]?\\s*\\d*\\.?\\d*)\\*(\\w+)', termo)\n",
        "        if match_termo:\n",
        "            coef = float(match_termo.group(1).replace(' ', '') or '1')\n",
        "            var = match_termo.group(2)\n",
        "            coefs_expr[var] = coef\n",
        "        else:\n",
        "            # Termos sem variável (constantes ou coeficientes 1 ou -1)\n",
        "            match_const = re.match(r'([+-]?\\s*\\d+\\.?\\d*)', termo)\n",
        "            if match_const:\n",
        "                 # Constante\n",
        "                coef = float(match_const.group(1).replace(' ', ''))\n",
        "                coefs_expr['constante'] = coef\n",
        "            else:\n",
        "                 # Coeficiente 1 ou -1 sem '*' explícito\n",
        "                match_single_var = re.match(r'([+-]?)\\s*(\\w+)', termo)\n",
        "                if match_single_var:\n",
        "                    sinal = match_single_var.group(1)\n",
        "                    var = match_single_var.group(2)\n",
        "                    coef = 1.0 if sinal == '+' or sinal == '' else -1.0\n",
        "                    coefs_expr[var] = coef\n",
        "\n",
        "\n",
        "    coeficientes.append(coefs_expr)\n",
        "\n",
        "print(\"\\nCoeficientes extraídos:\")\n",
        "for i, coefs_expr in enumerate(coeficientes):\n",
        "    print(f\"Equação {i+1}: {coefs_expr}\")"
      ],
      "metadata": {
        "id": "MpxE9wUpJqWk",
        "outputId": "8e62186f-14c9-452a-f580-eaa860802e6a",
        "colab": {
          "base_uri": "https://localhost:8080/"
        }
      },
      "execution_count": 30,
      "outputs": [
        {
          "output_type": "stream",
          "name": "stdout",
          "text": [
            "Digite a Transformação Linear (ex: T(x,y,z)=(x-z,y+x,x)):\n",
            "T(x,y,z)=(x-z,y+x,x)\n",
            "Variáveis de entrada: ['x', 'y', 'z']\n",
            "Dimensão de entrada: 3\n",
            "Expressões de saída: ['x-z', 'y+x', 'x']\n",
            "Dimensão de saída: 3\n",
            "\n",
            "Coeficientes extraídos:\n",
            "Equação 1: {'x': 1.0, 'z': -1.0}\n",
            "Equação 2: {'y': 1.0, 'x': 1.0}\n",
            "Equação 3: {'x': 1.0}\n"
          ]
        }
      ]
    },
    {
      "cell_type": "code",
      "source": [
        "import re\n",
        "T = re.split(r'[()=,]', transformacao)\n",
        "T = list(filter(None, transformacao))\n",
        "print(T)"
      ],
      "metadata": {
        "id": "w3cCAiDLJzxq",
        "outputId": "a3d5e078-ef41-4831-d029-b77a1f002837",
        "colab": {
          "base_uri": "https://localhost:8080/"
        }
      },
      "execution_count": 27,
      "outputs": [
        {
          "output_type": "stream",
          "name": "stdout",
          "text": [
            "['T', '(', 'x', ',', 'y', ',', 'z', ')', '=', '(', 'x', '-', 'z', ',', 'y', '+', 'x', ',', 'x', ')']\n"
          ]
        }
      ]
    }
  ]
}