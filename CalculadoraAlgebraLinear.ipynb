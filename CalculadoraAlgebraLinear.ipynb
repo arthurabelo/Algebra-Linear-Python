{
  "cells": [
    {
      "cell_type": "markdown",
      "metadata": {
        "id": "view-in-github",
        "colab_type": "text"
      },
      "source": [
        "<a href=\"https://colab.research.google.com/github/arthurabelo/Algebra-Linear-Python/blob/main/CalculadoraAlgebraLinear.ipynb\" target=\"_parent\"><img src=\"https://colab.research.google.com/assets/colab-badge.svg\" alt=\"Open In Colab\"/></a>"
      ]
    },
    {
      "cell_type": "markdown",
      "id": "32203480",
      "metadata": {
        "id": "32203480"
      },
      "source": [
        "# Calculadora de Álgebra Linear: Um Estudo Didático\n",
        "\n",
        "Este notebook tem como objetivo explicar, de forma didática, conceitos fundamentais de Álgebra Linear utilizando Python. Serão abordados:\n",
        "- Bases e mudança de base\n",
        "- Transformações lineares e suas matrizes associadas\n",
        "- Cálculo do núcleo (kernel) e imagem de uma transformação\n",
        "- Autovalores e autovetores\n",
        "\n",
        "Cada seção traz explicações teóricas e exemplos práticos, permitindo a exploração interativa dos conceitos."
      ]
    },
    {
      "cell_type": "code",
      "execution_count": null,
      "id": "389e341a",
      "metadata": {
        "id": "389e341a"
      },
      "outputs": [],
      "source": [
        "import numpy as np\n",
        "import re\n",
        "from fractions import Fraction\n",
        "from math import gcd\n"
      ]
    },
    {
      "cell_type": "markdown",
      "id": "73b6495f",
      "metadata": {
        "id": "73b6495f"
      },
      "source": [
        "## 1. Definindo Bases e Mudança de Base\n",
        "\n",
        "Em Álgebra Linear, uma **base** de um espaço vetorial é um conjunto de vetores linearmente independentes que geram todo o espaço. Qualquer vetor pode ser escrito como combinação linear dos vetores da base.\n",
        "\n",
        "A **mudança de base** é o processo de converter as coordenadas de um vetor de uma base para outra. Isso é feito utilizando uma matriz de mudança de base.\n",
        "\n",
        "A seguir, implementamos a classe `Base` para manipular bases e calcular a matriz de mudança de base."
      ]
    },
    {
      "cell_type": "code",
      "execution_count": null,
      "id": "f64088d0",
      "metadata": {
        "id": "f64088d0",
        "outputId": "43078d38-00ac-4129-bffd-c77f678d7a4c"
      },
      "outputs": [
        {
          "name": "stdout",
          "output_type": "stream",
          "text": [
            "Matriz de mudança de base (padrão -> base2):\n",
            " [[1. 0. 1.]\n",
            " [1. 1. 0.]\n",
            " [0. 1. 1.]]\n"
          ]
        }
      ],
      "source": [
        "class Base:\n",
        "    def __init__(self, vetores):\n",
        "        self.vetores = np.array(vetores, dtype=float)\n",
        "        self.dim = self.vetores.shape[1] if len(self.vetores.shape) > 1 else 1\n",
        "\n",
        "    def matriz_para_base(self, nova_base):\n",
        "        \"\"\"\n",
        "        Retorna a matriz de mudança de base de self para nova_base.\n",
        "        A matriz de mudança de base permite converter coordenadas de uma base para outra.\n",
        "        \"\"\"\n",
        "        if np.linalg.matrix_rank(self.vetores) < self.vetores.shape[1] or np.linalg.matrix_rank(nova_base.vetores) < nova_base.vetores.shape[1]:\n",
        "            raise ValueError(\"Uma das bases fornecidas não é invertível (vetores linearmente dependentes).\")\n",
        "        return np.linalg.inv(self.vetores) @ nova_base.vetores\n",
        "\n",
        "# Exemplo prático:\n",
        "# Base padrão de R^3\n",
        "base_padrao = Base(np.eye(3))\n",
        "# Outra base de R^3\n",
        "base2 = Base(np.array([[1,1,0],[0,1,1],[1,0,1]]).T)\n",
        "# Matriz de mudança de base da base padrão para base2\n",
        "P = base_padrao.matriz_para_base(base2)\n",
        "print(\"Matriz de mudança de base (padrão -> base2):\\n\", P)"
      ]
    },
    {
      "cell_type": "markdown",
      "id": "f058056c",
      "metadata": {
        "id": "f058056c"
      },
      "source": [
        "## 2. Transformações Lineares e Matrizes Associadas\n",
        "\n",
        "Uma **transformação linear** é uma função entre espaços vetoriais que preserva operações de adição e multiplicação por escalar. Toda transformação linear pode ser representada por uma matriz, chamada **matriz associada**.\n",
        "\n",
        "A seguir, implementamos a classe `TransformacaoLinear`, que interpreta uma transformação linear a partir de sua expressão simbólica e constrói sua matriz associada."
      ]
    },
    {
      "cell_type": "code",
      "execution_count": null,
      "id": "6110aa38",
      "metadata": {
        "id": "6110aa38",
        "outputId": "65f130ac-e3bd-4cd7-bdcc-e73df527560a"
      },
      "outputs": [
        {
          "name": "stdout",
          "output_type": "stream",
          "text": [
            "Matriz associada à transformação T:\n",
            "[[ 1. -1.  0.]\n",
            " [ 1.  1.  0.]\n",
            " [ 3.  1.  0.]]\n"
          ]
        }
      ],
      "source": [
        "class TransformacaoLinear:\n",
        "    def __init__(self, incognitas, expressoes):\n",
        "        self.incognitas = incognitas\n",
        "        self.expressoes = expressoes\n",
        "        self.matriz = self.matriz_associada(incognitas, expressoes)\n",
        "\n",
        "    def matriz_associada(self, incognitas, expressoes):\n",
        "        matriz = []\n",
        "        for expr in expressoes:\n",
        "            matriz.append(self.expr_para_coef(expr, incognitas))\n",
        "        return np.array(matriz)\n",
        "\n",
        "    @staticmethod\n",
        "    def parse_transformacao(transformacao):\n",
        "        def extrair_lista(regex, texto):\n",
        "            match = re.search(regex, texto)\n",
        "            if not match:\n",
        "                return []\n",
        "            lista_str = match.group(1)\n",
        "            lista = []\n",
        "            for item in lista_str.split(','):\n",
        "                item = item.strip()\n",
        "                if item == '':\n",
        "                    continue\n",
        "                lista.append(item)\n",
        "            return lista\n",
        "        try:\n",
        "            incognitas = extrair_lista(r'T\\s*\\(\\s*([^)]*?)\\s*\\)\\s*', transformacao)\n",
        "            expressoes = extrair_lista(r'=\\s*\\(\\s*([^)]*?)\\s*\\)\\s*', transformacao)\n",
        "            if not incognitas or not expressoes:\n",
        "                raise ValueError\n",
        "            return incognitas, expressoes\n",
        "        except Exception:\n",
        "            print(\"Erro ao interpretar a transformação linear. Verifique o formato.\")\n",
        "            return [], []\n",
        "\n",
        "    @staticmethod\n",
        "    def expr_para_coef(expr, incognitas):\n",
        "        coefs = [0.0 for _ in incognitas]\n",
        "        expr = expr.replace(' ', '')\n",
        "        termos = re.findall(r'[+-]?[^+-]+', expr)\n",
        "        for termo in termos:\n",
        "            if termo == '':\n",
        "                continue\n",
        "            for i, var in enumerate(incognitas):\n",
        "                if var in termo:\n",
        "                    coef = termo.replace(var, '')\n",
        "                    if coef in ['', '+']:\n",
        "                        coefs[i] += 1.0\n",
        "                    elif coef == '-':\n",
        "                        coefs[i] -= 1.0\n",
        "                    else:\n",
        "                        coefs[i] += float(coef)\n",
        "        return coefs\n",
        "\n",
        "# Exemplo prático:\n",
        "# T(x, y, z) = (x-y, x+y, 3x+y)\n",
        "incognitas, expressoes = TransformacaoLinear.parse_transformacao('T(x,y,z)=(x-y,x+y,3x+y)')\n",
        "T = TransformacaoLinear(incognitas, expressoes)\n",
        "print(\"Matriz associada à transformação T:\")\n",
        "print(T.matriz)"
      ]
    },
    {
      "cell_type": "markdown",
      "id": "6f59ca66",
      "metadata": {
        "id": "6f59ca66"
      },
      "source": [
        "## 3. Núcleo e Imagem de uma Transformação Linear\n",
        "\n",
        "O **núcleo** (ou kernel) de uma transformação linear T é o conjunto de todos os vetores que são enviados para o vetor nulo. Já a **imagem** é o conjunto de todos os vetores que podem ser obtidos como T(v) para algum v do domínio.\n",
        "\n",
        "O núcleo indica as soluções do sistema homogêneo T(v) = 0, enquanto a imagem representa o \"alcance\" da transformação.\n",
        "\n",
        "A seguir, implementamos métodos para calcular núcleo e imagem de uma transformação."
      ]
    },
    {
      "cell_type": "code",
      "execution_count": null,
      "id": "2a2f1685",
      "metadata": {
        "id": "2a2f1685",
        "outputId": "be223c70-f469-46a5-dd77-23cc75aaac5f"
      },
      "outputs": [
        {
          "name": "stdout",
          "output_type": "stream",
          "text": [
            "\n",
            "Base do núcleo de T:\n",
            "[[-0.0, 0.0, 1.0]]\n",
            "Base da imagem de T:\n",
            "[[1, 0, 1], [0, 1, 2]]\n"
          ]
        }
      ],
      "source": [
        "def eliminacao_gauss(M):\n",
        "    M = [row[:] for row in M]\n",
        "    n = len(M)\n",
        "    m = len(M[0]) - 1\n",
        "    for i in range(n):\n",
        "        max_row = i\n",
        "        for k in range(i+1, n):\n",
        "            if abs(M[k][i]) > abs(M[max_row][i]):\n",
        "                max_row = k\n",
        "        if abs(M[max_row][i]) < 1e-12:\n",
        "            continue\n",
        "        M[i], M[max_row] = M[max_row], M[i]\n",
        "        for k in range(i+1, n):\n",
        "            if abs(M[i][i]) < 1e-12:\n",
        "                continue\n",
        "            f = M[k][i] / M[i][i]\n",
        "            for j in range(i, m+1):\n",
        "                M[k][j] -= f * M[i][j]\n",
        "    pivots = []\n",
        "    for i in range(n):\n",
        "        for j in range(m):\n",
        "            if abs(M[i][j]) > 1e-10:\n",
        "                pivots.append(j)\n",
        "                break\n",
        "    free_vars = [j for j in range(m) if j not in pivots]\n",
        "    if not free_vars:\n",
        "        return []\n",
        "    base = []\n",
        "    for free in free_vars:\n",
        "        vec = [0.0]*m\n",
        "        vec[free] = 1.0\n",
        "        for i in reversed(range(len(pivots))):\n",
        "            linhai = M[i]\n",
        "            s = 0.0\n",
        "            for j in free_vars:\n",
        "                s += linhai[j]*vec[j]\n",
        "            if abs(linhai[pivots[i]]) > 1e-10:\n",
        "                vec[pivots[i]] = -s/linhai[pivots[i]]\n",
        "        base.append(vec)\n",
        "    return base\n",
        "\n",
        "def nucleo(matriz):\n",
        "    A = np.array(matriz, dtype=float)\n",
        "    n_linhas, n_colunas = A.shape\n",
        "    M = np.hstack([A, np.zeros((n_linhas, 1))])\n",
        "    return eliminacao_gauss(M.tolist())\n",
        "\n",
        "def gauss_jordan(m):\n",
        "    n_rows = len(m)\n",
        "    n_cols = len(m[0])\n",
        "    a = [row[:] for row in m]\n",
        "    min_dim = min(n_rows, n_cols)\n",
        "    row_used = [False]*n_rows\n",
        "    for i in range(min_dim):\n",
        "        max_row = None\n",
        "        for r in range(i, n_rows):\n",
        "            if abs(a[r][i]) > 1e-12 and not row_used[r]:\n",
        "                max_row = r\n",
        "                break\n",
        "        if max_row is None:\n",
        "            continue\n",
        "        if max_row != i:\n",
        "            a[i], a[max_row] = a[max_row], a[i]\n",
        "        row_used[i] = True\n",
        "        for j in range(n_rows):\n",
        "            if (i != j):\n",
        "                if abs(a[i][i]) < 1e-12:\n",
        "                    continue\n",
        "                p = a[j][i] / a[i][i]\n",
        "                for k in range(n_cols):\n",
        "                    a[j][k] -= a[i][k] * p\n",
        "    for i in range(min_dim):\n",
        "        if abs(a[i][i]) > 1e-12:\n",
        "            div = a[i][i]\n",
        "            for k in range(n_cols):\n",
        "                a[i][k] /= div\n",
        "    return a\n",
        "\n",
        "def imagem(matriz):\n",
        "    A = np.array(matriz, dtype=float)\n",
        "    Aj = gauss_jordan(A.T.tolist())\n",
        "    Aj = np.array(Aj).T\n",
        "    base = []\n",
        "    for j in range(Aj.shape[1]):\n",
        "        col = Aj[:, j]\n",
        "        if np.any(np.abs(col) > 1e-10):\n",
        "            base.append([int(round(x)) if abs(x - round(x)) < 1e-10 else x for x in col])\n",
        "    return base\n",
        "\n",
        "# Exemplo prático:\n",
        "print(\"\\nBase do núcleo de T:\")\n",
        "print(nucleo(T.matriz))\n",
        "print(\"Base da imagem de T:\")\n",
        "print(imagem(T.matriz))"
      ]
    },
    {
      "cell_type": "markdown",
      "id": "f82cbead",
      "metadata": {
        "id": "f82cbead"
      },
      "source": [
        "## 4. Autovalores e Autovetores\n",
        "\n",
        "Dada uma matriz quadrada $A$, um **autovalor** $\\lambda$ e um **autovetor** $v$ satisfazem $A v = \\lambda v$. Autovalores e autovetores são fundamentais para entender o comportamento de transformações lineares, especialmente em aplicações como sistemas dinâmicos, diagonalização e muito mais.\n",
        "\n",
        "A seguir, implementamos métodos para calcular autovalores e autovetores de uma matriz."
      ]
    },
    {
      "cell_type": "code",
      "execution_count": null,
      "id": "0e244ef8",
      "metadata": {
        "id": "0e244ef8",
        "outputId": "e721222c-abc3-4d95-e421-c2403553dc12"
      },
      "outputs": [
        {
          "name": "stdout",
          "output_type": "stream",
          "text": [
            "Polinômio característico: [ 1. -2.  2. -0.]\n",
            "Autovalores: [1.+1.j 1.-1.j 0.+0.j]\n",
            "Autovetores (colunas):\n",
            " [[ 0.  0. -0.]\n",
            " [ 0.  0.  0.]\n",
            " [ 0.  0.  1.]]\n"
          ]
        },
        {
          "name": "stderr",
          "output_type": "stream",
          "text": [
            "C:\\Users\\Arthur\\AppData\\Local\\Temp\\ipykernel_12604\\176840292.py:43: ComplexWarning: Casting complex values to real discards the imaginary part\n",
            "  A = np.array(matriz, dtype=float)\n"
          ]
        }
      ],
      "source": [
        "def polinomio_caracteristico(matriz):\n",
        "    matriz = np.array(matriz)\n",
        "    n = matriz.shape[0]\n",
        "    assert matriz.shape[1] == n\n",
        "    coeficientes = np.array([1.])\n",
        "    matriz_atual = np.array(matriz)\n",
        "    for k in range(1, n + 1):\n",
        "        coef = -np.trace(matriz_atual) / k\n",
        "        coeficientes = np.append(coeficientes, coef)\n",
        "        matriz_atual += np.diag(np.repeat(coef, n))\n",
        "        matriz_atual = matriz @ matriz_atual\n",
        "    return coeficientes\n",
        "\n",
        "def calcula_autovalores(matriz, coeficientes):\n",
        "    autovalores = np.roots(coeficientes)\n",
        "    autovalores = np.array([val.real if abs(val.imag) < 1e-10 else val for val in autovalores])\n",
        "    return autovalores\n",
        "\n",
        "def calcula_autovetores(matriz, autovalores):\n",
        "    A = np.array(matriz, dtype=float)\n",
        "    n, m = A.shape\n",
        "    I = np.eye(n)\n",
        "    autovetores = []\n",
        "    for val in autovalores:\n",
        "        if np.iscomplex(val) and abs(val.imag) > 1e-10:\n",
        "            autovetores.append(np.zeros(n))\n",
        "            continue\n",
        "        M = A - val * I\n",
        "        base_nucleo = nucleo(M)\n",
        "        vec = None\n",
        "        if base_nucleo and np.linalg.norm(base_nucleo[0]) > 1e-12:\n",
        "            vec = np.array(base_nucleo[0], dtype=float)\n",
        "        else:\n",
        "            u, s, vh = np.linalg.svd(M)\n",
        "            vec = vh[-1, :]\n",
        "        if vec is not None and np.linalg.norm(vec) > 1e-12:\n",
        "            vec = vec / np.linalg.norm(vec)\n",
        "            autovetores.append(vec.real)\n",
        "        else:\n",
        "            autovetores.append(np.zeros(n))\n",
        "    return np.array(autovetores).T\n",
        "\n",
        "# Exemplo prático (apenas para matrizes quadradas):\n",
        "if T.matriz.shape[0] == T.matriz.shape[1]:\n",
        "    coef = polinomio_caracteristico(T.matriz)\n",
        "    print(\"Polinômio característico:\", coef)\n",
        "    autovalores = calcula_autovalores(T.matriz, coef)\n",
        "    print(\"Autovalores:\", autovalores)\n",
        "    autovetores = calcula_autovetores(T.matriz, autovalores)\n",
        "    print(\"Autovetores (colunas):\\n\", autovetores)\n",
        "else:\n",
        "    print(\"A matriz associada não é quadrada. Não há autovalores/autovetores.\")"
      ]
    },
    {
      "cell_type": "markdown",
      "id": "82dd4bf9",
      "metadata": {
        "id": "82dd4bf9"
      },
      "source": [
        "## 5. Menu Interativo para Exploração de Transformações Lineares\n",
        "\n",
        "A seguir, apresentamos um menu interativo para que você possa explorar os conceitos apresentados:\n",
        "- Defina uma transformação linear\n",
        "- Calcule núcleo, imagem, autovalores e autovetores\n",
        "- Experimente diferentes bases\n",
        "\n",
        "**Execute a célula abaixo e siga as instruções no console do notebook.**"
      ]
    },
    {
      "cell_type": "code",
      "execution_count": null,
      "id": "ef6ed23a",
      "metadata": {
        "id": "ef6ed23a",
        "outputId": "79f7d6b5-51c7-4238-c914-42a53ef9788f"
      },
      "outputs": [
        {
          "name": "stdout",
          "output_type": "stream",
          "text": [
            "Exemplo: T(x,y,z)=(x-y,x+y,3x+y)\n",
            "Matriz associada:\n",
            "[[1. 2. 0. 0.]\n",
            " [0. 3. 0. 0.]\n",
            " [0. 0. 2. 0.]\n",
            " [0. 0. 5. 3.]]\n",
            "Menu:\n",
            "1. Calcular base do núcleo e base da imagem da transformação linear\n",
            "2. Calcular matriz da transformação em bases distintas\n",
            "3. Calcular autovalores e autovetores da transformação linear\n",
            "4. Alterar transformação linear\n",
            "0. Sair\n",
            "Matriz associada:\n",
            "[[1. 2. 0. 0.]\n",
            " [0. 3. 0. 0.]\n",
            " [0. 0. 2. 0.]\n",
            " [0. 0. 5. 3.]]\n",
            "Menu:\n",
            "1. Calcular base do núcleo e base da imagem da transformação linear\n",
            "2. Calcular matriz da transformação em bases distintas\n",
            "3. Calcular autovalores e autovetores da transformação linear\n",
            "4. Alterar transformação linear\n",
            "0. Sair\n",
            "Ker(T) (base do núcleo): []\n",
            "Dimensão do núcleo: 0\n",
            "Im(T) (base da imagem): [[1, 0, 0, 0], [0, 1, 0, 0], [0, 0, 1, 0], [0, 0, 0, 1]]\n",
            "Dimensão da imagem: 4\n",
            "Menu:\n",
            "1. Calcular base do núcleo e base da imagem da transformação linear\n",
            "2. Calcular matriz da transformação em bases distintas\n",
            "3. Calcular autovalores e autovetores da transformação linear\n",
            "4. Alterar transformação linear\n",
            "0. Sair\n",
            "Ker(T) (base do núcleo): []\n",
            "Dimensão do núcleo: 0\n",
            "Im(T) (base da imagem): [[1, 0, 0, 0], [0, 1, 0, 0], [0, 0, 1, 0], [0, 0, 0, 1]]\n",
            "Dimensão da imagem: 4\n",
            "Menu:\n",
            "1. Calcular base do núcleo e base da imagem da transformação linear\n",
            "2. Calcular matriz da transformação em bases distintas\n",
            "3. Calcular autovalores e autovetores da transformação linear\n",
            "4. Alterar transformação linear\n",
            "0. Sair\n",
            "Polinômio característico: [  1.  -9.  29. -39.  18.]\n",
            "Autovalores: [3.00000012 2.99999988 2.         1.        ]\n",
            "Autovetores (colunas):\n",
            " [[-0.00000000e+00  0.00000000e+00  0.00000000e+00  1.00000000e+00]\n",
            " [-0.00000000e+00  0.00000000e+00 -0.00000000e+00 -2.27595720e-15]\n",
            " [-2.32743716e-08 -2.32743735e-08 -1.96116135e-01 -0.00000000e+00]\n",
            " [-1.00000000e+00  1.00000000e+00  9.80580676e-01  0.00000000e+00]]\n",
            "Menu:\n",
            "1. Calcular base do núcleo e base da imagem da transformação linear\n",
            "2. Calcular matriz da transformação em bases distintas\n",
            "3. Calcular autovalores e autovetores da transformação linear\n",
            "4. Alterar transformação linear\n",
            "0. Sair\n",
            "Polinômio característico: [  1.  -9.  29. -39.  18.]\n",
            "Autovalores: [3.00000012 2.99999988 2.         1.        ]\n",
            "Autovetores (colunas):\n",
            " [[-0.00000000e+00  0.00000000e+00  0.00000000e+00  1.00000000e+00]\n",
            " [-0.00000000e+00  0.00000000e+00 -0.00000000e+00 -2.27595720e-15]\n",
            " [-2.32743716e-08 -2.32743735e-08 -1.96116135e-01 -0.00000000e+00]\n",
            " [-1.00000000e+00  1.00000000e+00  9.80580676e-01  0.00000000e+00]]\n",
            "Menu:\n",
            "1. Calcular base do núcleo e base da imagem da transformação linear\n",
            "2. Calcular matriz da transformação em bases distintas\n",
            "3. Calcular autovalores e autovetores da transformação linear\n",
            "4. Alterar transformação linear\n",
            "0. Sair\n",
            "Opção inválida!\n",
            "Menu:\n",
            "1. Calcular base do núcleo e base da imagem da transformação linear\n",
            "2. Calcular matriz da transformação em bases distintas\n",
            "3. Calcular autovalores e autovetores da transformação linear\n",
            "4. Alterar transformação linear\n",
            "0. Sair\n",
            "Opção inválida!\n",
            "Menu:\n",
            "1. Calcular base do núcleo e base da imagem da transformação linear\n",
            "2. Calcular matriz da transformação em bases distintas\n",
            "3. Calcular autovalores e autovetores da transformação linear\n",
            "4. Alterar transformação linear\n",
            "0. Sair\n",
            "Opção inválida!\n",
            "Menu:\n",
            "1. Calcular base do núcleo e base da imagem da transformação linear\n",
            "2. Calcular matriz da transformação em bases distintas\n",
            "3. Calcular autovalores e autovetores da transformação linear\n",
            "4. Alterar transformação linear\n",
            "0. Sair\n",
            "Saindo...\n",
            "Opção inválida!\n",
            "Menu:\n",
            "1. Calcular base do núcleo e base da imagem da transformação linear\n",
            "2. Calcular matriz da transformação em bases distintas\n",
            "3. Calcular autovalores e autovetores da transformação linear\n",
            "4. Alterar transformação linear\n",
            "0. Sair\n",
            "Saindo...\n"
          ]
        }
      ],
      "source": [
        "def menu_interativo():\n",
        "    print(\"Menu:\")\n",
        "    print(\"1. Calcular base do núcleo e base da imagem da transformação linear\")\n",
        "    print(\"2. Calcular matriz da transformação em bases distintas\")\n",
        "    print(\"3. Calcular autovalores e autovetores da transformação linear\")\n",
        "    print(\"4. Alterar transformação linear\")\n",
        "    print(\"0. Sair\")\n",
        "    return input(\"Escolha uma opção: \")\n",
        "\n",
        "def main_notebook():\n",
        "    print(\"Exemplo: T(x,y,z)=(x-y,x+y,3x+y)\")\n",
        "    transformacao = input(\"Digite a transformação linear: \")\n",
        "    incognitas, expressoes = TransformacaoLinear.parse_transformacao(transformacao)\n",
        "    T = TransformacaoLinear(incognitas, expressoes)\n",
        "    print(\"Matriz associada:\")\n",
        "    print(T.matriz)\n",
        "    while True:\n",
        "        op = menu_interativo()\n",
        "        if op == '1':\n",
        "            base_nucleo = nucleo(T.matriz)\n",
        "            print(\"Ker(T) (base do núcleo):\", base_nucleo)\n",
        "            print(\"Dimensão do núcleo:\", len(base_nucleo))\n",
        "            base_imagem = imagem(T.matriz)\n",
        "            print(\"Im(T) (base da imagem):\", base_imagem)\n",
        "            print(\"Dimensão da imagem:\", len(base_imagem))\n",
        "        elif op == '2':\n",
        "            print(\"Digite a base do domínio (ex: 1,0,0;0,1,0;0,0,1):\")\n",
        "            base_dom = input()\n",
        "            vetores_dom = [list(map(float, v.split(','))) for v in base_dom.strip().split(';') if v.strip() != '']\n",
        "            print(\"Digite a base do contradomínio (mesmo formato):\")\n",
        "            base_cod = input()\n",
        "            vetores_cod = [list(map(float, v.split(','))) for v in base_cod.strip().split(';') if v.strip() != '']\n",
        "            B_dom = Base(np.array(vetores_dom).T)\n",
        "            B_cod = Base(np.array(vetores_cod).T)\n",
        "            matriz_nova = B_cod.matriz_para_base(B_dom)\n",
        "            print(\"Matriz da transformação nas novas bases:\")\n",
        "            print(matriz_nova)\n",
        "        elif op == '3':\n",
        "            if T.matriz.shape[0] != T.matriz.shape[1]:\n",
        "                print(\"A matriz associada não é quadrada. Autovalores e autovetores só existem para matrizes quadradas.\")\n",
        "                continue\n",
        "            coef = polinomio_caracteristico(T.matriz)\n",
        "            print(\"Polinômio característico:\", coef)\n",
        "            autovalores = calcula_autovalores(T.matriz, coef)\n",
        "            print(\"Autovalores:\", autovalores)\n",
        "            autovetores = calcula_autovetores(T.matriz, autovalores)\n",
        "            print(\"Autovetores (colunas):\\n\", autovetores)\n",
        "        elif op == '4':\n",
        "            transformacao = input(\"Digite a nova transformação linear: \")\n",
        "            incognitas, expressoes = TransformacaoLinear.parse_transformacao(transformacao)\n",
        "            T = TransformacaoLinear(incognitas, expressoes)\n",
        "            print(\"Matriz associada:\")\n",
        "            print(T.matriz)\n",
        "        elif op == '0':\n",
        "            print(\"Saindo...\")\n",
        "            break\n",
        "        else:\n",
        "            print(\"Opção inválida!\")\n",
        "\n",
        "# Para rodar o menu interativo, descomente a linha abaixo:\n",
        "# main_notebook()"
      ]
    },
    {
      "cell_type": "markdown",
      "id": "502f1709",
      "metadata": {
        "id": "502f1709"
      },
      "source": [
        "### Explicação do Algoritmo de Mudança de Base\n",
        "\n",
        "O algoritmo de mudança de base implementado na classe `Base` utiliza conceitos fundamentais de Álgebra Linear:\n",
        "- **Bases** são conjuntos de vetores linearmente independentes que geram o espaço vetorial.\n",
        "- Para converter as coordenadas de um vetor de uma base para outra, usamos a **matriz de mudança de base**.\n",
        "\n",
        "**Como funciona o algoritmo:**\n",
        "1. Verifica se as duas bases são realmente bases (ou seja, se seus vetores são linearmente independentes e formam uma matriz invertível).\n",
        "2. Calcula a inversa da matriz da base original.\n",
        "3. Multiplica a inversa da base original pela matriz da nova base: $P = B^{-1}C$, onde $B$ é a matriz da base original e $C$ da nova base.\n",
        "4. O resultado é a matriz que transforma coordenadas da base original para a nova base.\n",
        "\n",
        "Esse processo é essencial para resolver problemas em que precisamos comparar representações de vetores ou transformações em diferentes bases."
      ]
    },
    {
      "cell_type": "markdown",
      "id": "bd56dc83",
      "metadata": {
        "id": "bd56dc83"
      },
      "source": [
        "### Explicação do Algoritmo de Construção da Matriz Associada\n",
        "\n",
        "A matriz associada a uma transformação linear é construída a partir das expressões que definem a transformação. O algoritmo segue os seguintes passos:\n",
        "1. **Leitura das variáveis e expressões:**\n",
        "   - O usuário fornece a transformação no formato $T(x, y, z) = (x-y, x+y, 3x+y)$.\n",
        "   - O algoritmo extrai as incógnitas (variáveis) e as expressões de saída.\n",
        "2. **Construção da matriz:**\n",
        "   - Para cada expressão de saída, o algoritmo identifica o coeficiente de cada variável.\n",
        "   - Esses coeficientes formam as linhas da matriz associada.\n",
        "3. **Resultado:**\n",
        "   - A matriz resultante representa a transformação linear em relação à base padrão.\n",
        "\n",
        "Esse método automatiza a passagem de uma descrição simbólica para uma representação matricial, fundamental para cálculos em Álgebra Linear."
      ]
    },
    {
      "cell_type": "markdown",
      "id": "1df4daac",
      "metadata": {
        "id": "1df4daac"
      },
      "source": [
        "### Explicação dos Algoritmos de Núcleo (Kernel) e Imagem\n",
        "\n",
        "#### Núcleo (Kernel)\n",
        "O núcleo de uma transformação linear $T$ é o conjunto de vetores $v$ tal que $T(v) = 0$. Para encontrar uma base do núcleo:\n",
        "1. Monta-se o sistema homogêneo $A\\vec{x} = 0$, onde $A$ é a matriz associada.\n",
        "2. O algoritmo aplica a **eliminação de Gauss** para escalonar a matriz aumentada.\n",
        "3. Identifica as variáveis livres e constrói vetores que formam uma base para o espaço solução.\n",
        "\n",
        "#### Imagem\n",
        "A imagem é o subespaço gerado pelas colunas da matriz associada:\n",
        "1. O algoritmo aplica o método de **Gauss-Jordan** para obter uma matriz reduzida por linhas.\n",
        "2. As colunas não nulas da matriz reduzida formam uma base para a imagem.\n",
        "\n",
        "Esses algoritmos são essenciais para entender as propriedades fundamentais de uma transformação linear, como sua injetividade e sobrejetividade."
      ]
    },
    {
      "cell_type": "markdown",
      "id": "9a264c64",
      "metadata": {
        "id": "9a264c64"
      },
      "source": [
        "### Explicação do Algoritmo de Autovalores e Autovetores\n",
        "\n",
        "#### Autovalores\n",
        "O cálculo dos autovalores é feito pelo **método de Leverrier-Faddeev**, que evita o cálculo direto do determinante:\n",
        "1. Constrói-se iterativamente matrizes auxiliares e calcula-se o traço (soma dos elementos da diagonal principal).\n",
        "2. Os coeficientes do polinômio característico $\\det(A - \\lambda I)$ são obtidos sem expandir determinantes.\n",
        "3. As raízes desse polinômio são os autovalores.\n",
        "\n",
        "#### Autovetores\n",
        "Para cada autovalor $\\lambda$:\n",
        "1. Calcula-se a matriz $A - \\lambda I$.\n",
        "2. O núcleo dessa matriz é encontrado (usando eliminação de Gauss), e qualquer vetor não nulo desse núcleo é um autovetor associado.\n",
        "3. Se necessário, utiliza-se SVD para garantir um vetor não nulo.\n",
        "\n",
        "Esses algoritmos são fundamentais para análise espectral de matrizes, com aplicações em estabilidade, sistemas dinâmicos, física e muito mais."
      ]
    },
    {
      "cell_type": "markdown",
      "id": "6cea96a6",
      "metadata": {
        "id": "6cea96a6"
      },
      "source": [
        "### Explicação do Menu Interativo\n",
        "\n",
        "O menu interativo foi projetado para facilitar a exploração dos conceitos de Álgebra Linear de forma prática:\n",
        "- Permite ao usuário definir diferentes transformações lineares e experimentar com bases distintas.\n",
        "- Calcula e exibe, de forma automática, núcleo, imagem, autovalores e autovetores.\n",
        "- O código foi adaptado para rodar em ambiente de notebook, tornando o aprendizado mais dinâmico e visual.\n",
        "\n",
        "Essa abordagem é ideal para apresentações e seminários, pois permite demonstrar ao vivo como os algoritmos funcionam e como os conceitos se relacionam na prática."
      ]
    }
  ],
  "metadata": {
    "kernelspec": {
      "display_name": "Python 3",
      "language": "python",
      "name": "python3"
    },
    "language_info": {
      "codemirror_mode": {
        "name": "ipython",
        "version": 3
      },
      "file_extension": ".py",
      "mimetype": "text/x-python",
      "name": "python",
      "nbconvert_exporter": "python",
      "pygments_lexer": "ipython3",
      "version": "3.13.3"
    },
    "colab": {
      "provenance": [],
      "include_colab_link": true
    }
  },
  "nbformat": 4,
  "nbformat_minor": 5
}